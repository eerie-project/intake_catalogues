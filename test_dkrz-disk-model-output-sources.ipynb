{
 "cells": [
  {
   "cell_type": "markdown",
   "id": "dddb64f8-7c77-4367-81e9-10467c1e7f9a",
   "metadata": {
    "tags": []
   },
   "source": [
    "# EERIE Data at DKRZ\n",
    "\n",
    "This notebook guides EERIE data users and explains how to find and load data available at DKRZ.\n",
    "\n",
    "The notebook works well within the `python3/unstable` kernel."
   ]
  },
  {
   "cell_type": "code",
   "execution_count": 1,
   "id": "215240d1-ca94-4ee3-9e72-b4ff84867b1e",
   "metadata": {
    "tags": []
   },
   "outputs": [],
   "source": [
    "from copy import deepcopy\n",
    "def find_data_sources(catalog,name=None):\n",
    "    newname='.'.join(\n",
    "        [ a \n",
    "         for a in [name, catalog.name]\n",
    "         if a\n",
    "        ]\n",
    "    )\n",
    "    data_sources = []\n",
    "\n",
    "    for key, entry in catalog.items():\n",
    "        if isinstance(entry, intake.catalog.Catalog):\n",
    "            if newname == \"main\":\n",
    "                newname = None\n",
    "            # If the entry is a subcatalog, recursively search it\n",
    "            data_sources.extend(find_data_sources(entry, newname))\n",
    "        elif isinstance(entry, intake.source.base.DataSource):\n",
    "            if newname:\n",
    "                data_sources.append(newname+\".\"+key)\n",
    "            else:\n",
    "                data_sources.append(key)\n",
    "\n",
    "    return data_sources"
   ]
  },
  {
   "cell_type": "markdown",
   "id": "b865c128-761e-49f1-b902-bdf163e602af",
   "metadata": {},
   "source": [
    "All data relevant for the project is referenced in the main DKRZ-EERIE Catalog:"
   ]
  },
  {
   "cell_type": "code",
   "execution_count": 2,
   "id": "ea840052-f632-4a98-9770-c7d32fbe6c8d",
   "metadata": {
    "tags": []
   },
   "outputs": [
    {
     "data": {
      "application/yaml": "main:\n  args:\n    path: https://raw.githubusercontent.com/eerie-project/intake_catalogues/main/dkrz/disk/model-output/main.yaml\n  description: ''\n  driver: intake.catalog.local.YAMLFileCatalog\n  metadata: {}\n",
      "text/plain": [
       "main:\n",
       "  args:\n",
       "    path: https://raw.githubusercontent.com/eerie-project/intake_catalogues/main/dkrz/disk/model-output/main.yaml\n",
       "  description: ''\n",
       "  driver: intake.catalog.local.YAMLFileCatalog\n",
       "  metadata: {}\n"
      ]
     },
     "metadata": {
      "application/json": {
       "root": "main"
      }
     },
     "output_type": "display_data"
    }
   ],
   "source": [
    "import intake\n",
    "eerie_cat=intake.open_catalog(\"https://raw.githubusercontent.com/eerie-project/intake_catalogues/main/dkrz/disk/model-output/main.yaml\")\n",
    "eerie_cat"
   ]
  },
  {
   "cell_type": "code",
   "execution_count": 3,
   "id": "3f91ba1e-d626-4b23-bdb1-0738ff7781ce",
   "metadata": {
    "tags": []
   },
   "outputs": [],
   "source": [
    "sources=find_data_sources(eerie_cat)"
   ]
  },
  {
   "cell_type": "code",
   "execution_count": 4,
   "id": "4cbe8d82-8f8c-4e52-80b1-972879d0cdca",
   "metadata": {
    "tags": []
   },
   "outputs": [],
   "source": [
    "sources=[a for a in sources if not \"json\" in a and not \"csv\" in a ]"
   ]
  },
  {
   "cell_type": "code",
   "execution_count": 5,
   "id": "7aab81e7-1d1b-4454-a082-c6ecdb0e64ee",
   "metadata": {
    "tags": []
   },
   "outputs": [],
   "source": [
    "hadgem=[a for a in sources if \"hadgem\" in a]"
   ]
  },
  {
   "cell_type": "code",
   "execution_count": 6,
   "id": "2fda8093-498e-43a8-a487-c9a2a78d1ed9",
   "metadata": {
    "tags": []
   },
   "outputs": [],
   "source": [
    "def test_entry(cat,a):\n",
    "    assert cat[a]\n",
    "\n",
    "def test_describe(cat,a):\n",
    "    assert cat[a].describe()\n",
    "\n",
    "def test_open(cat,a):\n",
    "    assert cat[a].to_dask()\n",
    "\n",
    "def test_load(cat,a):\n",
    "    ds = cat[a].to_dask()\n",
    "    if \"time\" in ds.dims:\n",
    "        droplist=[a for a in ds.variables if len(ds[a].dims) == 0]\n",
    "        if droplist:\n",
    "            ds=ds.drop(droplist)\n",
    "        assert ds.isel(time=0).load()\n",
    "    else:\n",
    "        assert ds.load()"
   ]
  },
  {
   "cell_type": "code",
   "execution_count": 8,
   "id": "0f29aa12-4ce2-4864-be3e-a9d99153ba2e",
   "metadata": {
    "tags": []
   },
   "outputs": [
    {
     "name": "stderr",
     "output_type": "stream",
     "text": [
      "  0%|          | 0/113 [00:00<?, ?it/s]"
     ]
    },
    {
     "name": "stdout",
     "output_type": "stream",
     "text": [
      "icon-esm-er.eerie-control-1950.atmos.gr025.2d_daily_max\n"
     ]
    },
    {
     "name": "stderr",
     "output_type": "stream",
     "text": [
      "  1%|          | 1/113 [00:00<00:43,  2.55it/s]"
     ]
    },
    {
     "name": "stdout",
     "output_type": "stream",
     "text": [
      "icon-esm-er.eerie-control-1950.atmos.gr025.2d_daily_mean\n"
     ]
    },
    {
     "name": "stderr",
     "output_type": "stream",
     "text": [
      "  2%|▏         | 2/113 [00:02<02:06,  1.14s/it]"
     ]
    },
    {
     "name": "stdout",
     "output_type": "stream",
     "text": [
      "icon-esm-er.eerie-control-1950.atmos.gr025.2d_daily_min\n",
      "icon-esm-er.eerie-control-1950.atmos.gr025.2d_monthly_mean\n"
     ]
    },
    {
     "name": "stderr",
     "output_type": "stream",
     "text": [
      "  4%|▎         | 4/113 [00:02<00:53,  2.03it/s]"
     ]
    },
    {
     "name": "stdout",
     "output_type": "stream",
     "text": [
      "icon-esm-er.eerie-control-1950.atmos.gr025.model-level_monthly_mean\n"
     ]
    },
    {
     "name": "stderr",
     "output_type": "stream",
     "text": [
      "  4%|▍         | 5/113 [00:05<02:30,  1.40s/it]"
     ]
    },
    {
     "name": "stdout",
     "output_type": "stream",
     "text": [
      "icon-esm-er.eerie-control-1950.atmos.gr025.plev19_daily_mean\n"
     ]
    },
    {
     "name": "stderr",
     "output_type": "stream",
     "text": [
      "  5%|▌         | 6/113 [00:06<02:05,  1.17s/it]"
     ]
    },
    {
     "name": "stdout",
     "output_type": "stream",
     "text": [
      "icon-esm-er.eerie-control-1950.atmos.gr025.plev19_monthly_mean\n"
     ]
    },
    {
     "name": "stderr",
     "output_type": "stream",
     "text": [
      "  6%|▌         | 7/113 [00:07<01:54,  1.08s/it]"
     ]
    },
    {
     "name": "stdout",
     "output_type": "stream",
     "text": [
      "icon-esm-er.eerie-control-1950.atmos.native.2d_1h_inst\n"
     ]
    },
    {
     "name": "stderr",
     "output_type": "stream",
     "text": [
      "  7%|▋         | 8/113 [00:07<01:32,  1.14it/s]"
     ]
    },
    {
     "name": "stdout",
     "output_type": "stream",
     "text": [
      "icon-esm-er.eerie-control-1950.atmos.native.2d_1h_mean\n"
     ]
    },
    {
     "name": "stderr",
     "output_type": "stream",
     "text": [
      "  8%|▊         | 9/113 [00:07<01:12,  1.44it/s]"
     ]
    },
    {
     "name": "stdout",
     "output_type": "stream",
     "text": [
      "icon-esm-er.eerie-control-1950.atmos.native.2d_3h_inst\n"
     ]
    },
    {
     "name": "stderr",
     "output_type": "stream",
     "text": [
      "  9%|▉         | 10/113 [00:08<01:01,  1.68it/s]"
     ]
    },
    {
     "name": "stdout",
     "output_type": "stream",
     "text": [
      "icon-esm-er.eerie-control-1950.atmos.native.2d_6h_inst\n"
     ]
    },
    {
     "name": "stderr",
     "output_type": "stream",
     "text": [
      " 11%|█         | 12/113 [00:08<00:42,  2.39it/s]"
     ]
    },
    {
     "name": "stdout",
     "output_type": "stream",
     "text": [
      "icon-esm-er.eerie-control-1950.atmos.native.2d_6h_mean\n",
      "icon-esm-er.eerie-control-1950.atmos.native.2d_daily_max\n"
     ]
    },
    {
     "name": "stderr",
     "output_type": "stream",
     "text": [
      " 12%|█▏        | 13/113 [00:08<00:32,  3.06it/s]"
     ]
    },
    {
     "name": "stdout",
     "output_type": "stream",
     "text": [
      "icon-esm-er.eerie-control-1950.atmos.native.2d_daily_mean\n"
     ]
    },
    {
     "name": "stderr",
     "output_type": "stream",
     "text": [
      " 12%|█▏        | 14/113 [00:09<00:35,  2.77it/s]"
     ]
    },
    {
     "name": "stdout",
     "output_type": "stream",
     "text": [
      "icon-esm-er.eerie-control-1950.atmos.native.2d_daily_min\n",
      "icon-esm-er.eerie-control-1950.atmos.native.2d_monthly_mean\n"
     ]
    },
    {
     "name": "stderr",
     "output_type": "stream",
     "text": [
      " 14%|█▍        | 16/113 [00:09<00:32,  2.95it/s]"
     ]
    },
    {
     "name": "stdout",
     "output_type": "stream",
     "text": [
      "icon-esm-er.eerie-control-1950.atmos.native.atm_mon\n",
      "icon-esm-er.eerie-control-1950.atmos.native.model-level_daily_mean_1\n"
     ]
    },
    {
     "name": "stderr",
     "output_type": "stream",
     "text": [
      " 16%|█▌        | 18/113 [00:19<03:26,  2.17s/it]"
     ]
    },
    {
     "name": "stdout",
     "output_type": "stream",
     "text": [
      "icon-esm-er.eerie-control-1950.atmos.native.model-level_daily_mean_2\n"
     ]
    },
    {
     "name": "stderr",
     "output_type": "stream",
     "text": [
      " 17%|█▋        | 19/113 [00:26<04:54,  3.13s/it]"
     ]
    },
    {
     "name": "stdout",
     "output_type": "stream",
     "text": [
      "icon-esm-er.eerie-control-1950.atmos.native.model-level_monthly_mean\n"
     ]
    },
    {
     "name": "stderr",
     "output_type": "stream",
     "text": [
      " 18%|█▊        | 20/113 [00:49<12:11,  7.87s/it]"
     ]
    },
    {
     "name": "stdout",
     "output_type": "stream",
     "text": [
      "icon-esm-er.eerie-control-1950.atmos.native.pl_6h_inst\n"
     ]
    },
    {
     "name": "stderr",
     "output_type": "stream",
     "text": [
      " 19%|█▊        | 21/113 [00:50<09:32,  6.22s/it]"
     ]
    },
    {
     "name": "stdout",
     "output_type": "stream",
     "text": [
      "icon-esm-er.eerie-control-1950.atmos.native.plev19_daily_mean\n"
     ]
    },
    {
     "name": "stderr",
     "output_type": "stream",
     "text": [
      " 19%|█▉        | 22/113 [00:53<08:05,  5.34s/it]"
     ]
    },
    {
     "name": "stdout",
     "output_type": "stream",
     "text": [
      "icon-esm-er.eerie-control-1950.atmos.native.plev19_monthly_mean\n"
     ]
    },
    {
     "name": "stderr",
     "output_type": "stream",
     "text": [
      " 20%|██        | 23/113 [00:57<07:21,  4.91s/it]"
     ]
    },
    {
     "name": "stdout",
     "output_type": "stream",
     "text": [
      "icon-esm-er.eerie-control-1950.ocean.gr025.2d_daily_mean\n"
     ]
    },
    {
     "name": "stderr",
     "output_type": "stream",
     "text": [
      " 21%|██        | 24/113 [00:58<05:37,  3.80s/it]"
     ]
    },
    {
     "name": "stdout",
     "output_type": "stream",
     "text": [
      "icon-esm-er.eerie-control-1950.ocean.gr025.2d_daily_mean_vertical-remap025\n",
      "icon-esm-er.eerie-control-1950.ocean.gr025.2d_daily_square\n",
      "icon-esm-er.eerie-control-1950.ocean.gr025.2d_monthly_mean\n"
     ]
    },
    {
     "name": "stderr",
     "output_type": "stream",
     "text": [
      " 24%|██▍       | 27/113 [00:58<02:32,  1.77s/it]"
     ]
    },
    {
     "name": "stdout",
     "output_type": "stream",
     "text": [
      "icon-esm-er.eerie-control-1950.ocean.gr025.2d_monthly_mean_vertical-remap025\n",
      "icon-esm-er.eerie-control-1950.ocean.gr025.2d_monthly_square\n",
      "icon-esm-er.eerie-control-1950.ocean.gr025.5lev_daily_mean\n"
     ]
    },
    {
     "name": "stderr",
     "output_type": "stream",
     "text": [
      " 27%|██▋       | 30/113 [00:58<01:25,  1.03s/it]"
     ]
    },
    {
     "name": "stdout",
     "output_type": "stream",
     "text": [
      "icon-esm-er.eerie-control-1950.ocean.gr025.eddy_monthly_mean\n"
     ]
    },
    {
     "name": "stderr",
     "output_type": "stream",
     "text": [
      " 27%|██▋       | 31/113 [01:04<02:28,  1.81s/it]"
     ]
    },
    {
     "name": "stdout",
     "output_type": "stream",
     "text": [
      "icon-esm-er.eerie-control-1950.ocean.native.2d_grid\n",
      "icon-esm-er.eerie-control-1950.ocean.native.3d_grid\n",
      "icon-esm-er.eerie-control-1950.ocean.native.2d_daily_mean\n"
     ]
    },
    {
     "name": "stderr",
     "output_type": "stream",
     "text": [
      " 30%|███       | 34/113 [01:08<02:08,  1.63s/it]"
     ]
    },
    {
     "name": "stdout",
     "output_type": "stream",
     "text": [
      "icon-esm-er.eerie-control-1950.ocean.native.2d_daily_square\n"
     ]
    },
    {
     "name": "stderr",
     "output_type": "stream",
     "text": [
      " 31%|███       | 35/113 [01:09<01:51,  1.43s/it]"
     ]
    },
    {
     "name": "stdout",
     "output_type": "stream",
     "text": [
      "icon-esm-er.eerie-control-1950.ocean.native.2d_monthly_mean\n"
     ]
    },
    {
     "name": "stderr",
     "output_type": "stream",
     "text": [
      " 32%|███▏      | 36/113 [01:11<02:07,  1.65s/it]"
     ]
    },
    {
     "name": "stdout",
     "output_type": "stream",
     "text": [
      "icon-esm-er.eerie-control-1950.ocean.native.2d_monthly_square\n"
     ]
    },
    {
     "name": "stderr",
     "output_type": "stream",
     "text": [
      " 33%|███▎      | 37/113 [01:12<01:46,  1.41s/it]"
     ]
    },
    {
     "name": "stdout",
     "output_type": "stream",
     "text": [
      "icon-esm-er.eerie-control-1950.ocean.native.5lev_daily_mean\n"
     ]
    },
    {
     "name": "stderr",
     "output_type": "stream",
     "text": [
      " 34%|███▎      | 38/113 [01:14<02:05,  1.67s/it]"
     ]
    },
    {
     "name": "stdout",
     "output_type": "stream",
     "text": [
      "icon-esm-er.eerie-control-1950.ocean.native.eddy_monthly_mean\n"
     ]
    },
    {
     "name": "stderr",
     "output_type": "stream",
     "text": [
      " 35%|███▍      | 39/113 [03:02<35:12, 28.55s/it]"
     ]
    },
    {
     "name": "stdout",
     "output_type": "stream",
     "text": [
      "icon-esm-er.eerie-control-1950.ocean.native.moc_monthly_mean\n"
     ]
    },
    {
     "name": "stderr",
     "output_type": "stream",
     "text": [
      " 35%|███▌      | 40/113 [03:03<25:46, 21.18s/it]"
     ]
    },
    {
     "name": "stdout",
     "output_type": "stream",
     "text": [
      "icon-esm-er.eerie-control-1950.ocean.native.model-level_daily_mean\n"
     ]
    },
    {
     "name": "stderr",
     "output_type": "stream",
     "text": [
      " 36%|███▋      | 41/113 [03:29<26:59, 22.49s/it]"
     ]
    },
    {
     "name": "stdout",
     "output_type": "stream",
     "text": [
      "icon-esm-er.eerie-control-1950.ocean.native.model-level_monthly_mean\n"
     ]
    },
    {
     "name": "stderr",
     "output_type": "stream",
     "text": [
      " 37%|███▋      | 42/113 [04:00<29:22, 24.82s/it]"
     ]
    },
    {
     "name": "stdout",
     "output_type": "stream",
     "text": [
      "icon-esm-er.eerie-control-1950.ocean.native.oce_mon\n"
     ]
    },
    {
     "name": "stderr",
     "output_type": "stream",
     "text": [
      " 38%|███▊      | 43/113 [04:00<20:45, 17.79s/it]"
     ]
    },
    {
     "name": "stdout",
     "output_type": "stream",
     "text": [
      "icon-esm-er.eerie-control-1950.land.gr025.2d_daily_mean\n"
     ]
    },
    {
     "name": "stderr",
     "output_type": "stream",
     "text": [
      " 39%|███▉      | 44/113 [04:01<14:53, 12.94s/it]"
     ]
    },
    {
     "name": "stdout",
     "output_type": "stream",
     "text": [
      "icon-esm-er.eerie-control-1950.land.gr025.2d_monthly_mean\n"
     ]
    },
    {
     "name": "stderr",
     "output_type": "stream",
     "text": [
      " 40%|███▉      | 45/113 [04:02<10:29,  9.25s/it]"
     ]
    },
    {
     "name": "stdout",
     "output_type": "stream",
     "text": [
      "icon-esm-er.eerie-control-1950.land.native.2d_daily_mean\n"
     ]
    },
    {
     "name": "stderr",
     "output_type": "stream",
     "text": [
      " 41%|████      | 46/113 [04:03<07:38,  6.85s/it]"
     ]
    },
    {
     "name": "stdout",
     "output_type": "stream",
     "text": [
      "icon-esm-er.eerie-control-1950.land.native.2d_monthly_mean\n"
     ]
    },
    {
     "name": "stderr",
     "output_type": "stream",
     "text": [
      " 42%|████▏     | 47/113 [04:03<05:30,  5.00s/it]"
     ]
    },
    {
     "name": "stdout",
     "output_type": "stream",
     "text": [
      "icon-esm-er.eerie-spinup-1950.atmos.native.2d_monthly_mean\n"
     ]
    },
    {
     "name": "stderr",
     "output_type": "stream",
     "text": [
      " 42%|████▏     | 48/113 [04:06<04:32,  4.19s/it]"
     ]
    },
    {
     "name": "stdout",
     "output_type": "stream",
     "text": [
      "icon-esm-er.eerie-spinup-1950.atmos.native.atm_mon\n"
     ]
    },
    {
     "name": "stderr",
     "output_type": "stream",
     "text": [
      " 43%|████▎     | 49/113 [04:06<03:18,  3.09s/it]"
     ]
    },
    {
     "name": "stdout",
     "output_type": "stream",
     "text": [
      "icon-esm-er.eerie-spinup-1950.atmos.native.model-level_monthly_mean\n"
     ]
    },
    {
     "name": "stderr",
     "output_type": "stream",
     "text": [
      " 44%|████▍     | 50/113 [04:27<08:59,  8.57s/it]"
     ]
    },
    {
     "name": "stdout",
     "output_type": "stream",
     "text": [
      "icon-esm-er.eerie-spinup-1950.atmos.native.quickplot\n"
     ]
    },
    {
     "name": "stderr",
     "output_type": "stream",
     "text": [
      " 45%|████▌     | 51/113 [04:28<06:24,  6.20s/it]"
     ]
    },
    {
     "name": "stdout",
     "output_type": "stream",
     "text": [
      "icon-esm-er.eerie-spinup-1950.ocean.native.2d_monthly_mean\n"
     ]
    },
    {
     "name": "stderr",
     "output_type": "stream",
     "text": [
      " 46%|████▌     | 52/113 [04:32<05:27,  5.37s/it]"
     ]
    },
    {
     "name": "stdout",
     "output_type": "stream",
     "text": [
      "icon-esm-er.eerie-spinup-1950.ocean.native.moc_monthly_mean\n"
     ]
    },
    {
     "name": "stderr",
     "output_type": "stream",
     "text": [
      " 47%|████▋     | 53/113 [04:32<03:55,  3.92s/it]"
     ]
    },
    {
     "name": "stdout",
     "output_type": "stream",
     "text": [
      "icon-esm-er.eerie-spinup-1950.ocean.native.model-level_monthly_mean\n"
     ]
    },
    {
     "name": "stderr",
     "output_type": "stream",
     "text": [
      " 48%|████▊     | 54/113 [05:25<18:24, 18.71s/it]"
     ]
    },
    {
     "name": "stdout",
     "output_type": "stream",
     "text": [
      "icon-esm-er.eerie-spinup-1950.ocean.native.oce_mon\n"
     ]
    },
    {
     "name": "stderr",
     "output_type": "stream",
     "text": [
      " 49%|████▊     | 55/113 [05:27<13:00, 13.45s/it]"
     ]
    },
    {
     "name": "stdout",
     "output_type": "stream",
     "text": [
      "icon-esm-er.eerie-spinup-1950.land.native.2d_monthly_mean\n"
     ]
    },
    {
     "name": "stderr",
     "output_type": "stream",
     "text": [
      " 50%|████▉     | 56/113 [05:28<09:17,  9.77s/it]"
     ]
    },
    {
     "name": "stdout",
     "output_type": "stream",
     "text": [
      "icon-esm-er.eerie-spinup-1950.land.native.tl_monthly_mean\n"
     ]
    },
    {
     "name": "stderr",
     "output_type": "stream",
     "text": [
      " 50%|█████     | 57/113 [05:29<06:40,  7.16s/it]"
     ]
    },
    {
     "name": "stdout",
     "output_type": "stream",
     "text": [
      "ifs-fesom2-sr.eerie-control-1950.atmos.gr025.daily_2d\n"
     ]
    },
    {
     "name": "stderr",
     "output_type": "stream",
     "text": [
      " 51%|█████▏    | 58/113 [05:31<05:06,  5.57s/it]"
     ]
    },
    {
     "name": "stdout",
     "output_type": "stream",
     "text": [
      "ifs-fesom2-sr.eerie-control-1950.atmos.gr025.daily_3d\n"
     ]
    },
    {
     "name": "stderr",
     "output_type": "stream",
     "text": [
      " 52%|█████▏    | 59/113 [05:32<03:49,  4.25s/it]"
     ]
    },
    {
     "name": "stdout",
     "output_type": "stream",
     "text": [
      "ifs-fesom2-sr.eerie-control-1950.atmos.native.daily\n"
     ]
    },
    {
     "name": "stderr",
     "output_type": "stream",
     "text": [
      " 53%|█████▎    | 60/113 [05:33<02:51,  3.24s/it]"
     ]
    },
    {
     "name": "stdout",
     "output_type": "stream",
     "text": [
      "ifs-fesom2-sr.eerie-control-1950.ocean.gr025.daily\n"
     ]
    },
    {
     "name": "stderr",
     "output_type": "stream",
     "text": [
      " 54%|█████▍    | 61/113 [05:34<02:14,  2.59s/it]"
     ]
    },
    {
     "name": "stdout",
     "output_type": "stream",
     "text": [
      "ifs-fesom2-sr.eerie-control-1950.ocean.gr025.monthly\n"
     ]
    },
    {
     "name": "stderr",
     "output_type": "stream",
     "text": [
      " 55%|█████▍    | 62/113 [05:36<02:13,  2.61s/it]"
     ]
    },
    {
     "name": "stdout",
     "output_type": "stream",
     "text": [
      "ifs-fesom2-sr.eerie-control-1950.ocean.native.daily\n"
     ]
    },
    {
     "name": "stderr",
     "output_type": "stream",
     "text": [
      " 56%|█████▌    | 63/113 [05:38<01:49,  2.20s/it]"
     ]
    },
    {
     "name": "stdout",
     "output_type": "stream",
     "text": [
      "ifs-fesom2-sr.eerie-control-1950.ocean.native.elem_grid\n",
      "ifs-fesom2-sr.eerie-control-1950.ocean.native.monthly_elem\n"
     ]
    },
    {
     "name": "stderr",
     "output_type": "stream",
     "text": [
      " 58%|█████▊    | 65/113 [05:47<02:41,  3.37s/it]"
     ]
    },
    {
     "name": "stdout",
     "output_type": "stream",
     "text": [
      "ifs-fesom2-sr.eerie-control-1950.ocean.native.monthly_node\n"
     ]
    },
    {
     "name": "stderr",
     "output_type": "stream",
     "text": [
      " 58%|█████▊    | 66/113 [05:58<04:01,  5.13s/it]"
     ]
    },
    {
     "name": "stdout",
     "output_type": "stream",
     "text": [
      "ifs-fesom2-sr.eerie-control-1950.ocean.native.node_grid\n",
      "ifs-amip.amip-hist-obs.atmos.gr025.2D_const_0.25deg\n"
     ]
    },
    {
     "name": "stderr",
     "output_type": "stream",
     "text": [
      " 60%|██████    | 68/113 [06:01<02:43,  3.64s/it]"
     ]
    },
    {
     "name": "stdout",
     "output_type": "stream",
     "text": [
      "ifs-amip.amip-hist-obs.atmos.gr025.2D_6h_0.25deg\n"
     ]
    },
    {
     "name": "stderr",
     "output_type": "stream",
     "text": [
      " 62%|██████▏   | 70/113 [06:03<01:50,  2.57s/it]"
     ]
    },
    {
     "name": "stdout",
     "output_type": "stream",
     "text": [
      "ifs-amip.amip-hist-obs.atmos.gr025.2D_24h_0.25deg\n",
      "test_load fails for ifs-amip.amip-hist-obs.atmos.gr025.2D_24h_0.25deg\n",
      "ifs-amip.amip-hist-obs.atmos.gr025.2D_monthly_0.25deg\n"
     ]
    },
    {
     "name": "stderr",
     "output_type": "stream",
     "text": [
      " 63%|██████▎   | 71/113 [06:04<01:26,  2.05s/it]"
     ]
    },
    {
     "name": "stdout",
     "output_type": "stream",
     "text": [
      "ifs-amip.amip-hist-obs.atmos.gr025.3D_6h_0.25deg\n"
     ]
    },
    {
     "name": "stderr",
     "output_type": "stream",
     "text": [
      " 64%|██████▎   | 72/113 [06:04<01:08,  1.67s/it]"
     ]
    },
    {
     "name": "stdout",
     "output_type": "stream",
     "text": [
      "ifs-amip.amip-hist-obs.atmos.gr025.3D_24h_0.25deg\n"
     ]
    },
    {
     "name": "stderr",
     "output_type": "stream",
     "text": [
      " 65%|██████▍   | 73/113 [06:06<01:02,  1.57s/it]"
     ]
    },
    {
     "name": "stdout",
     "output_type": "stream",
     "text": [
      "ifs-amip.amip-hist-obs.atmos.gr025.3D_monthly_0.25deg\n"
     ]
    },
    {
     "name": "stderr",
     "output_type": "stream",
     "text": [
      " 65%|██████▌   | 74/113 [06:07<01:00,  1.55s/it]"
     ]
    },
    {
     "name": "stdout",
     "output_type": "stream",
     "text": [
      "ifs-amip.amip-hist-obs-lr30.atmos.gr025.2D_const_0.25deg\n"
     ]
    },
    {
     "name": "stderr",
     "output_type": "stream",
     "text": [
      " 66%|██████▋   | 75/113 [06:10<01:08,  1.81s/it]"
     ]
    },
    {
     "name": "stdout",
     "output_type": "stream",
     "text": [
      "ifs-amip.amip-hist-obs-lr30.atmos.gr025.2D_6h_0.25deg\n"
     ]
    },
    {
     "name": "stderr",
     "output_type": "stream",
     "text": [
      " 68%|██████▊   | 77/113 [06:12<00:50,  1.40s/it]"
     ]
    },
    {
     "name": "stdout",
     "output_type": "stream",
     "text": [
      "ifs-amip.amip-hist-obs-lr30.atmos.gr025.2D_24h_0.25deg\n",
      "test_load fails for ifs-amip.amip-hist-obs-lr30.atmos.gr025.2D_24h_0.25deg\n",
      "ifs-amip.amip-hist-obs-lr30.atmos.gr025.2D_monthly_0.25deg\n"
     ]
    },
    {
     "name": "stderr",
     "output_type": "stream",
     "text": [
      " 69%|██████▉   | 78/113 [06:13<00:39,  1.14s/it]"
     ]
    },
    {
     "name": "stdout",
     "output_type": "stream",
     "text": [
      "ifs-amip.amip-hist-obs-lr30.atmos.gr025.3D_6h_0.25deg\n"
     ]
    },
    {
     "name": "stderr",
     "output_type": "stream",
     "text": [
      " 70%|██████▉   | 79/113 [06:13<00:33,  1.02it/s]"
     ]
    },
    {
     "name": "stdout",
     "output_type": "stream",
     "text": [
      "ifs-amip.amip-hist-obs-lr30.atmos.gr025.3D_24h_0.25deg\n"
     ]
    },
    {
     "name": "stderr",
     "output_type": "stream",
     "text": [
      " 71%|███████   | 80/113 [06:14<00:34,  1.05s/it]"
     ]
    },
    {
     "name": "stdout",
     "output_type": "stream",
     "text": [
      "ifs-amip.amip-hist-obs-lr30.atmos.gr025.3D_monthly_0.25deg\n"
     ]
    },
    {
     "name": "stderr",
     "output_type": "stream",
     "text": [
      " 72%|███████▏  | 81/113 [06:16<00:38,  1.19s/it]"
     ]
    },
    {
     "name": "stdout",
     "output_type": "stream",
     "text": [
      "ifs-amip.amip-hist-obs-c-lr30-a-0.atmos.gr025.2D_6h_0.25deg\n"
     ]
    },
    {
     "name": "stderr",
     "output_type": "stream",
     "text": [
      " 73%|███████▎  | 82/113 [06:17<00:32,  1.04s/it]"
     ]
    },
    {
     "name": "stdout",
     "output_type": "stream",
     "text": [
      "ifs-amip.amip-hist-obs-c-lr30-a-0.atmos.gr025.3D_6h_0.25deg\n"
     ]
    },
    {
     "name": "stderr",
     "output_type": "stream",
     "text": [
      " 73%|███████▎  | 83/113 [06:17<00:25,  1.18it/s]"
     ]
    },
    {
     "name": "stdout",
     "output_type": "stream",
     "text": [
      "ifs-amip.amip-hist-obs-c-lr30-a-lr30.atmos.gr025.2D_6h_0.25deg\n"
     ]
    },
    {
     "name": "stderr",
     "output_type": "stream",
     "text": [
      " 74%|███████▍  | 84/113 [06:18<00:23,  1.22it/s]"
     ]
    },
    {
     "name": "stdout",
     "output_type": "stream",
     "text": [
      "ifs-amip.amip-hist-obs-c-lr30-a-lr30.atmos.gr025.3D_6h_0.25deg\n"
     ]
    },
    {
     "name": "stderr",
     "output_type": "stream",
     "text": [
      " 75%|███████▌  | 85/113 [06:18<00:18,  1.49it/s]"
     ]
    },
    {
     "name": "stdout",
     "output_type": "stream",
     "text": [
      "ifs-amip.amip-ng-obs.atmos.gr025.2D_6h_0.25deg\n"
     ]
    },
    {
     "name": "stderr",
     "output_type": "stream",
     "text": [
      " 76%|███████▌  | 86/113 [06:19<00:23,  1.13it/s]"
     ]
    },
    {
     "name": "stdout",
     "output_type": "stream",
     "text": [
      "ifs-amip.amip-ng-obs.atmos.gr025.2D_6h_0.25deg_lightning\n"
     ]
    },
    {
     "name": "stderr",
     "output_type": "stream",
     "text": [
      " 77%|███████▋  | 87/113 [06:20<00:18,  1.44it/s]"
     ]
    },
    {
     "name": "stdout",
     "output_type": "stream",
     "text": [
      "ifs-amip.amip-ng-obs.atmos.gr025.3D_24h_0.25deg\n"
     ]
    },
    {
     "name": "stderr",
     "output_type": "stream",
     "text": [
      " 78%|███████▊  | 88/113 [06:24<00:41,  1.64s/it]"
     ]
    },
    {
     "name": "stdout",
     "output_type": "stream",
     "text": [
      "ifs-amip.amip-ng-obs-lr30.atmos.gr025.2D_6h_0.25deg\n"
     ]
    },
    {
     "name": "stderr",
     "output_type": "stream",
     "text": [
      " 80%|███████▉  | 90/113 [06:25<00:26,  1.14s/it]"
     ]
    },
    {
     "name": "stdout",
     "output_type": "stream",
     "text": [
      "ifs-amip.amip-ng-obs-lr30.atmos.gr025.2D_6h_0.25deg_lightning\n",
      "ifs-amip.amip-ng-obs-lr30.atmos.gr025.3D_24h_0.25deg\n"
     ]
    },
    {
     "name": "stderr",
     "output_type": "stream",
     "text": [
      " 81%|████████  | 91/113 [06:28<00:39,  1.82s/it]"
     ]
    },
    {
     "name": "stdout",
     "output_type": "stream",
     "text": [
      "ifs-nemo.eerie-control-1950.atmos.native.daily\n"
     ]
    },
    {
     "name": "stderr",
     "output_type": "stream",
     "text": [
      " 81%|████████▏ | 92/113 [06:31<00:43,  2.06s/it]"
     ]
    },
    {
     "name": "stdout",
     "output_type": "stream",
     "text": [
      "ifs-nemo.eerie-control-1950.ocean.native.daily_ice\n"
     ]
    },
    {
     "name": "stderr",
     "output_type": "stream",
     "text": [
      " 82%|████████▏ | 93/113 [06:33<00:42,  2.13s/it]"
     ]
    },
    {
     "name": "stdout",
     "output_type": "stream",
     "text": [
      "ifs-nemo.eerie-control-1950.ocean.native.daily\n"
     ]
    },
    {
     "name": "stderr",
     "output_type": "stream",
     "text": [
      " 83%|████████▎ | 94/113 [06:35<00:38,  2.03s/it]"
     ]
    },
    {
     "name": "stdout",
     "output_type": "stream",
     "text": [
      "ifs-nemo.eerie-control-1950.ocean.native.monthly\n"
     ]
    },
    {
     "name": "stderr",
     "output_type": "stream",
     "text": [
      " 84%|████████▍ | 95/113 [06:53<02:00,  6.69s/it]"
     ]
    },
    {
     "name": "stdout",
     "output_type": "stream",
     "text": [
      "hadgem3-gc5-n640-orca12.eerie-picontrol.atmos.gr025.daily\n"
     ]
    },
    {
     "name": "stderr",
     "output_type": "stream",
     "text": [
      " 85%|████████▍ | 96/113 [06:55<01:29,  5.24s/it]"
     ]
    },
    {
     "name": "stdout",
     "output_type": "stream",
     "text": [
      "hadgem3-gc5-n640-orca12.eerie-picontrol.atmos.native.atmos_monthly_aermon\n"
     ]
    },
    {
     "name": "stderr",
     "output_type": "stream",
     "text": [
      " 86%|████████▌ | 97/113 [06:55<01:02,  3.92s/it]"
     ]
    },
    {
     "name": "stdout",
     "output_type": "stream",
     "text": [
      "hadgem3-gc5-n640-orca12.eerie-picontrol.atmos.native.atmos_monthly_amon_center\n"
     ]
    },
    {
     "name": "stderr",
     "output_type": "stream",
     "text": [
      " 87%|████████▋ | 98/113 [06:56<00:43,  2.93s/it]"
     ]
    },
    {
     "name": "stdout",
     "output_type": "stream",
     "text": [
      "hadgem3-gc5-n640-orca12.eerie-picontrol.atmos.native.atmos_monthly_amon_edge\n"
     ]
    },
    {
     "name": "stderr",
     "output_type": "stream",
     "text": [
      " 88%|████████▊ | 99/113 [06:56<00:30,  2.17s/it]"
     ]
    },
    {
     "name": "stdout",
     "output_type": "stream",
     "text": [
      "hadgem3-gc5-n640-orca12.eerie-picontrol.atmos.native.atmos_monthly_emon\n"
     ]
    },
    {
     "name": "stderr",
     "output_type": "stream",
     "text": [
      " 88%|████████▊ | 100/113 [06:57<00:23,  1.82s/it]"
     ]
    },
    {
     "name": "stdout",
     "output_type": "stream",
     "text": [
      "hadgem3-gc5-n640-orca12.eerie-picontrol.atmos.native.atmos_daily_center\n"
     ]
    },
    {
     "name": "stderr",
     "output_type": "stream",
     "text": [
      " 89%|████████▉ | 101/113 [06:59<00:20,  1.69s/it]"
     ]
    },
    {
     "name": "stdout",
     "output_type": "stream",
     "text": [
      "hadgem3-gc5-n640-orca12.eerie-picontrol.atmos.native.atmos_daily_edge\n"
     ]
    },
    {
     "name": "stderr",
     "output_type": "stream",
     "text": [
      " 90%|█████████ | 102/113 [06:59<00:14,  1.28s/it]"
     ]
    },
    {
     "name": "stdout",
     "output_type": "stream",
     "text": [
      "hadgem3-gc5-n640-orca12.eerie-picontrol.ocean.gr025.daily\n"
     ]
    },
    {
     "name": "stderr",
     "output_type": "stream",
     "text": [
      "/sw/spack-levante/mambaforge-23.1.0-1-Linux-x86_64-3boc6i/lib/python3.10/site-packages/xarray/conventions.py:427: SerializationWarning: variable 'siconc' has multiple fill values {1e+20, 1e+20}, decoding all values to NaN.\n",
      "  new_vars[k] = decode_cf_variable(\n",
      "/sw/spack-levante/mambaforge-23.1.0-1-Linux-x86_64-3boc6i/lib/python3.10/site-packages/xarray/conventions.py:427: SerializationWarning: variable 'siu' has multiple fill values {1e+20, 1e+20}, decoding all values to NaN.\n",
      "  new_vars[k] = decode_cf_variable(\n",
      "/sw/spack-levante/mambaforge-23.1.0-1-Linux-x86_64-3boc6i/lib/python3.10/site-packages/xarray/conventions.py:427: SerializationWarning: variable 'siv' has multiple fill values {1e+20, 1e+20}, decoding all values to NaN.\n",
      "  new_vars[k] = decode_cf_variable(\n",
      " 91%|█████████ | 103/113 [07:00<00:12,  1.24s/it]/sw/spack-levante/mambaforge-23.1.0-1-Linux-x86_64-3boc6i/lib/python3.10/site-packages/xarray/conventions.py:427: SerializationWarning: variable 'mlotst10' has multiple fill values {1e+20, 1e+20}, decoding all values to NaN.\n",
      "  new_vars[k] = decode_cf_variable(\n",
      "/sw/spack-levante/mambaforge-23.1.0-1-Linux-x86_64-3boc6i/lib/python3.10/site-packages/xarray/conventions.py:427: SerializationWarning: variable 'sosabs' has multiple fill values {1e+20, 1e+20}, decoding all values to NaN.\n",
      "  new_vars[k] = decode_cf_variable(\n",
      "/sw/spack-levante/mambaforge-23.1.0-1-Linux-x86_64-3boc6i/lib/python3.10/site-packages/xarray/conventions.py:427: SerializationWarning: variable 'toscon' has multiple fill values {1e+20, 1e+20}, decoding all values to NaN.\n",
      "  new_vars[k] = decode_cf_variable(\n",
      "/sw/spack-levante/mambaforge-23.1.0-1-Linux-x86_64-3boc6i/lib/python3.10/site-packages/xarray/conventions.py:427: SerializationWarning: variable 'zos' has multiple fill values {1e+20, 1e+20}, decoding all values to NaN.\n",
      "  new_vars[k] = decode_cf_variable(\n"
     ]
    },
    {
     "name": "stdout",
     "output_type": "stream",
     "text": [
      "hadgem3-gc5-n640-orca12.eerie-picontrol.ocean.gr025.monthly\n"
     ]
    },
    {
     "name": "stderr",
     "output_type": "stream",
     "text": [
      " 92%|█████████▏| 104/113 [07:01<00:08,  1.01it/s]"
     ]
    },
    {
     "name": "stdout",
     "output_type": "stream",
     "text": [
      "hadgem3-gc5-n216-orca025.eerie-picontrol.atmos.gr025.daily\n"
     ]
    },
    {
     "name": "stderr",
     "output_type": "stream",
     "text": [
      " 93%|█████████▎| 105/113 [07:03<00:10,  1.32s/it]"
     ]
    },
    {
     "name": "stdout",
     "output_type": "stream",
     "text": [
      "hadgem3-gc5-n216-orca025.eerie-picontrol.atmos.native.atmos_monthly_aermon\n"
     ]
    },
    {
     "name": "stderr",
     "output_type": "stream",
     "text": [
      " 94%|█████████▍| 106/113 [07:04<00:08,  1.20s/it]"
     ]
    },
    {
     "name": "stdout",
     "output_type": "stream",
     "text": [
      "hadgem3-gc5-n216-orca025.eerie-picontrol.atmos.native.atmos_monthly_amon_center\n"
     ]
    },
    {
     "name": "stderr",
     "output_type": "stream",
     "text": [
      " 95%|█████████▍| 107/113 [07:04<00:06,  1.05s/it]"
     ]
    },
    {
     "name": "stdout",
     "output_type": "stream",
     "text": [
      "hadgem3-gc5-n216-orca025.eerie-picontrol.atmos.native.atmos_monthly_amon_edge\n"
     ]
    },
    {
     "name": "stderr",
     "output_type": "stream",
     "text": [
      " 96%|█████████▌| 108/113 [07:05<00:04,  1.20it/s]"
     ]
    },
    {
     "name": "stdout",
     "output_type": "stream",
     "text": [
      "hadgem3-gc5-n216-orca025.eerie-picontrol.atmos.native.atmos_monthly_emon\n"
     ]
    },
    {
     "name": "stderr",
     "output_type": "stream",
     "text": [
      " 96%|█████████▋| 109/113 [07:05<00:02,  1.38it/s]"
     ]
    },
    {
     "name": "stdout",
     "output_type": "stream",
     "text": [
      "hadgem3-gc5-n216-orca025.eerie-picontrol.atmos.native.atmos_daily_center\n"
     ]
    },
    {
     "name": "stderr",
     "output_type": "stream",
     "text": [
      " 97%|█████████▋| 110/113 [07:07<00:02,  1.06it/s]"
     ]
    },
    {
     "name": "stdout",
     "output_type": "stream",
     "text": [
      "hadgem3-gc5-n216-orca025.eerie-picontrol.atmos.native.atmos_daily_edge\n"
     ]
    },
    {
     "name": "stderr",
     "output_type": "stream",
     "text": [
      " 98%|█████████▊| 111/113 [07:07<00:01,  1.35it/s]"
     ]
    },
    {
     "name": "stdout",
     "output_type": "stream",
     "text": [
      "hadgem3-gc5-n216-orca025.eerie-picontrol.ocean.gr025.daily\n"
     ]
    },
    {
     "name": "stderr",
     "output_type": "stream",
     "text": [
      "/sw/spack-levante/mambaforge-23.1.0-1-Linux-x86_64-3boc6i/lib/python3.10/site-packages/xarray/conventions.py:427: SerializationWarning: variable 'siconc' has multiple fill values {1e+20, 1e+20}, decoding all values to NaN.\n",
      "  new_vars[k] = decode_cf_variable(\n",
      "/sw/spack-levante/mambaforge-23.1.0-1-Linux-x86_64-3boc6i/lib/python3.10/site-packages/xarray/conventions.py:427: SerializationWarning: variable 'sithick' has multiple fill values {1e+20, 1e+20}, decoding all values to NaN.\n",
      "  new_vars[k] = decode_cf_variable(\n",
      "/sw/spack-levante/mambaforge-23.1.0-1-Linux-x86_64-3boc6i/lib/python3.10/site-packages/xarray/conventions.py:427: SerializationWarning: variable 'siu' has multiple fill values {1e+20, 1e+20}, decoding all values to NaN.\n",
      "  new_vars[k] = decode_cf_variable(\n",
      "/sw/spack-levante/mambaforge-23.1.0-1-Linux-x86_64-3boc6i/lib/python3.10/site-packages/xarray/conventions.py:427: SerializationWarning: variable 'siv' has multiple fill values {1e+20, 1e+20}, decoding all values to NaN.\n",
      "  new_vars[k] = decode_cf_variable(\n",
      " 99%|█████████▉| 112/113 [07:08<00:00,  1.11it/s]/sw/spack-levante/mambaforge-23.1.0-1-Linux-x86_64-3boc6i/lib/python3.10/site-packages/xarray/conventions.py:427: SerializationWarning: variable 'mlotst10' has multiple fill values {1e+20, 1e+20}, decoding all values to NaN.\n",
      "  new_vars[k] = decode_cf_variable(\n",
      "/sw/spack-levante/mambaforge-23.1.0-1-Linux-x86_64-3boc6i/lib/python3.10/site-packages/xarray/conventions.py:427: SerializationWarning: variable 'sosabs' has multiple fill values {1e+20, 1e+20}, decoding all values to NaN.\n",
      "  new_vars[k] = decode_cf_variable(\n",
      "/sw/spack-levante/mambaforge-23.1.0-1-Linux-x86_64-3boc6i/lib/python3.10/site-packages/xarray/conventions.py:427: SerializationWarning: variable 'toscon' has multiple fill values {1e+20, 1e+20}, decoding all values to NaN.\n",
      "  new_vars[k] = decode_cf_variable(\n",
      "/sw/spack-levante/mambaforge-23.1.0-1-Linux-x86_64-3boc6i/lib/python3.10/site-packages/xarray/conventions.py:427: SerializationWarning: variable 'zos' has multiple fill values {1e+20, 1e+20}, decoding all values to NaN.\n",
      "  new_vars[k] = decode_cf_variable(\n"
     ]
    },
    {
     "name": "stdout",
     "output_type": "stream",
     "text": [
      "hadgem3-gc5-n216-orca025.eerie-picontrol.ocean.gr025.monthly\n"
     ]
    },
    {
     "name": "stderr",
     "output_type": "stream",
     "text": [
      "100%|██████████| 113/113 [07:09<00:00,  3.80s/it]\n"
     ]
    }
   ],
   "source": [
    "from tqdm import tqdm\n",
    "failed=[]\n",
    "for a in tqdm(sources):\n",
    "    print(a)\n",
    "    if \"grid\" in a:\n",
    "        continue\n",
    "    for func in [test_entry, test_describe, test_open,test_load]:\n",
    "        try:\n",
    "            func(eerie_cat,a)\n",
    "        except:\n",
    "            failed.append(a)\n",
    "            print(func.__name__+\" fails for \"+a)    "
   ]
  },
  {
   "cell_type": "code",
   "execution_count": null,
   "id": "6d1de023-7b90-4e13-b5d9-d2a9e96f3c72",
   "metadata": {},
   "outputs": [],
   "source": []
  }
 ],
 "metadata": {
  "kernelspec": {
   "display_name": "0 Python 3 (based on the module python3/unstable",
   "language": "python",
   "name": "python3_unstable"
  },
  "language_info": {
   "codemirror_mode": {
    "name": "ipython",
    "version": 3
   },
   "file_extension": ".py",
   "mimetype": "text/x-python",
   "name": "python",
   "nbconvert_exporter": "python",
   "pygments_lexer": "ipython3",
   "version": "3.10.10"
  }
 },
 "nbformat": 4,
 "nbformat_minor": 5
}
