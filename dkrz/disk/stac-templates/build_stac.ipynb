{
 "cells": [
  {
   "cell_type": "code",
   "execution_count": 1,
   "id": "1eed3ce2-e202-4607-9069-81a2f3d8cdfa",
   "metadata": {
    "tags": []
   },
   "outputs": [],
   "source": [
    "import pystac\n",
    "import os\n",
    "import glob\n",
    "import fsspec\n",
    "import json\n",
    "from copy import deepcopy as copy\n",
    "import pandas as pd"
   ]
  },
  {
   "cell_type": "code",
   "execution_count": 2,
   "id": "5808d0c3-ab1e-49f1-994f-2e49d8f09b06",
   "metadata": {
    "tags": []
   },
   "outputs": [],
   "source": [
    "PROVIDER_DEFAULT = dict(\n",
    "    name=\"DKRZ\",\n",
    "    description=\"The data host of eerie.cloud\",\n",
    "    roles=[\"host\"],\n",
    "    url=\"https://dkrz.de\",\n",
    ")\n"
   ]
  },
  {
   "cell_type": "code",
   "execution_count": 3,
   "id": "e1ab29e4-50ed-4ed8-8ef0-c14f87fa32b6",
   "metadata": {
    "tags": []
   },
   "outputs": [],
   "source": [
    "TECHDOC = pystac.Asset(\n",
    "    href=\"https://pad.gwdg.de/OZo5HMC4R6iljvZHlo-BzQ#\",\n",
    "    title=\"Technical documentation\",\n",
    "    media_type=pystac.MediaType.HTML,\n",
    "    roles=[\"OVERVIEW\"],\n",
    ")\n"
   ]
  },
  {
   "cell_type": "code",
   "execution_count": 4,
   "id": "10e02e4a-d78c-47e1-ae60-7152a1c548b0",
   "metadata": {
    "tags": []
   },
   "outputs": [],
   "source": [
    "dslist=json.load(fsspec.open(\"https://eerie.cloud.dkrz.de/datasets\").open())"
   ]
  },
  {
   "cell_type": "code",
   "execution_count": 15,
   "id": "d015020a-847d-4944-af76-ff39377efdf5",
   "metadata": {
    "tags": []
   },
   "outputs": [],
   "source": [
    "intakeurl_root=\"https://raw.githubusercontent.com/eerie-project/intake_catalogues/refs/heads/main/dkrz/disk/stac-templates/\""
   ]
  },
  {
   "cell_type": "code",
   "execution_count": 16,
   "id": "58e4dfd9-166b-443c-9443-f2695e1da24b",
   "metadata": {
    "tags": []
   },
   "outputs": [],
   "source": [
    "ifsamipreadme=\"https://raw.githubusercontent.com/eerie-project/EERIE_hackathon_2023/refs/heads/main/IFS_AMIP/README.md\""
   ]
  },
  {
   "cell_type": "code",
   "execution_count": 17,
   "id": "7e43915e-1abf-461b-a46b-53e86cdb47b8",
   "metadata": {
    "tags": []
   },
   "outputs": [],
   "source": [
    "cvurl=\"https://raw.githubusercontent.com/eerie-project/dreq_tools/refs/heads/update_tables/Tables/EERIE_CV.json\"\n",
    "cv=json.load(fsspec.open(cvurl).open())[\"CV\"]"
   ]
  },
  {
   "cell_type": "code",
   "execution_count": 18,
   "id": "10301706-5247-40e1-ba28-9cd5398b8402",
   "metadata": {
    "tags": []
   },
   "outputs": [],
   "source": [
    "cvmodels=list(cv[\"source_id\"].keys())\n",
    "cvexps=list(cv[\"experiment_id\"].keys())"
   ]
  },
  {
   "cell_type": "code",
   "execution_count": 19,
   "id": "43f5e5f8-b7f1-4080-851d-e73888081df9",
   "metadata": {
    "tags": []
   },
   "outputs": [],
   "source": [
    "cwd=os.getcwd()\n",
    "modelpaths=[\n",
    "    a for a in glob.glob(cwd+\"/*\")\n",
    "    if os.path.isdir(a)\n",
    "]"
   ]
  },
  {
   "cell_type": "code",
   "execution_count": 20,
   "id": "3400075b-3517-4bd7-a5d1-b5931065623b",
   "metadata": {
    "tags": []
   },
   "outputs": [],
   "source": [
    "def addlinks(cat,model,exp):\n",
    "    global dslist\n",
    "    cat.add_link(\n",
    "        pystac.Link(\n",
    "            \"parent\",\n",
    "            intakeurl_root+\"catalog-experiments.json\",\n",
    "            media_type=pystac.MediaType.JSON\n",
    "        )   \n",
    "    )\n",
    "    for entry in dslist:\n",
    "        if model+'.'+exp+'.' in entry:\n",
    "            cat.add_link(\n",
    "                pystac.Link(\n",
    "                    pystac.RelType.ITEM,\n",
    "                    \"https://eerie.cloud.dkrz.de/datasets/\"+entry+\"/stac\",\n",
    "                    media_type=pystac.MediaType.GEOJSON\n",
    "                )   \n",
    "            )\n",
    "    return cat"
   ]
  },
  {
   "cell_type": "code",
   "execution_count": 21,
   "id": "ea6de35e-a42c-423e-a06d-a6892dbc0d0b",
   "metadata": {
    "tags": []
   },
   "outputs": [],
   "source": [
    "def define_catalog(staccols):    \n",
    "    description=\"# EERIE ESM Experiment collections\"\n",
    "    description+=(\n",
    "        \"\\n\\n[Imprint](https://www.dkrz.de/en/about-en/contact/impressum) \"+\n",
    "        \"and \\n[Privacy Policy](https://www.dkrz.de/en/about-en/contact/en-datenschutzhinweise).\\n\"\n",
    "    )\n",
    "    cat = pystac.Catalog(\n",
    "        id=\"EERIE-static\",\n",
    "        title=\"EERIE data in Zarr format\",\n",
    "        description=description,\n",
    "        href=intakeurl_root+\"catalog-experiments.json\"\n",
    "    ) \n",
    "    for col in staccols:\n",
    "        colself=copy([a for a in col[\"links\"] if a[\"rel\"]==\"self\"][0])\n",
    "        if colself:\n",
    "            colself[\"rel\"]=pystac.RelType.CHILD\n",
    "            colself[\"target\"] = colself.pop(\"href\")\n",
    "            colself[\"media_type\"] = colself.pop(\"type\")\n",
    "            cat.add_link(pystac.Link(**colself))\n",
    "    cat.add_link(\n",
    "        pystac.Link(\n",
    "            \"parent\",\n",
    "            \"https://swift.dkrz.de/v1/dkrz_7fa6baba-db43-4d12-a295-8e3ebb1a01ed/catalogs/stac-catalog-eeriecloud.json\",\n",
    "            media_type=pystac.MediaType.JSON\n",
    "        )\n",
    "    )\n",
    "    return cat"
   ]
  },
  {
   "cell_type": "code",
   "execution_count": 22,
   "id": "cf4e8b00-5f49-497f-afa2-cb654b616334",
   "metadata": {
    "tags": []
   },
   "outputs": [],
   "source": [
    "def define_collections(model,exppath):\n",
    "    exp=exppath.split('/')[-1]\n",
    "    modelupper=model.upper()\n",
    "    tempextent=pystac.TemporalExtent(\n",
    "            [pd.to_datetime('1950',format='%Y'),\n",
    "             pd.to_datetime('2050',format='%Y')]\n",
    "        )\n",
    "    if \"ifs-amip\" in model:\n",
    "        tempextent=pystac.TemporalExtent(\n",
    "                [pd.to_datetime('1980',format='%Y'),\n",
    "                 pd.to_datetime('2024',format='%Y')]\n",
    "            )\n",
    "        description=fsspec.open(ifsamipreadme,\"r\").open().read()\n",
    "    elif modelupper in cvmodels:\n",
    "        description=cv[\"source_id\"][modelupper][\"source\"]\n",
    "    description=\"# EERIE \"+model+\" \"+exp+\" data in Zarr format\"\n",
    "    if exp in cvexps:\n",
    "        description+=cv[\"experiment_id\"][exp][\"experiment\"]\n",
    "    description+=(\n",
    "        \"\\n\\n[Imprint](https://www.dkrz.de/en/about-en/contact/impressum) \"+\n",
    "        \"and \\n[Privacy Policy](https://www.dkrz.de/en/about-en/contact/en-datenschutzhinweise).\\n\"\n",
    "    )\n",
    "    keywords=[\"EERIE\", \"cloud\"]\n",
    "    keywords+=model.upper().split('-')\n",
    "    keywords+=[exp]\n",
    "    cat = pystac.Collection(\n",
    "        id=\"EERIE-\"+model+\"-\"+exp,\n",
    "        title=exp+\" data in Zarr format\",\n",
    "        description=description,\n",
    "        href=intakeurl_root+model+\"/\"+exp+\"/stac_\"+model+\"_\"+exp+\".json\",\n",
    "        extent=pystac.Extent(\n",
    "            spatial=pystac.SpatialExtent([-180, -90, 180, 90]),\n",
    "            temporal=tempextent,\n",
    "        ),\n",
    "        keywords=keywords,\n",
    "        providers=[pystac.Provider(PROVIDER_DEFAULT)],\n",
    "        assets=dict(doc=copy(TECHDOC)),\n",
    "    )\n",
    "    cat = addlinks(cat,model,exp=exp)\n",
    "    return cat"
   ]
  },
  {
   "cell_type": "code",
   "execution_count": 23,
   "id": "200fb3ca-0718-4daa-8c20-7bd3374bf767",
   "metadata": {
    "tags": []
   },
   "outputs": [],
   "source": [
    "staccols=[]\n",
    "for modpath in modelpaths:\n",
    "    exppaths=[\n",
    "        a for a in glob.glob(modpath+\"/*\")\n",
    "        if os.path.isdir(a)\n",
    "    ]\n",
    "    model=modpath.split('/')[-1]\n",
    "    for exppath in exppaths:\n",
    "        exp=exppath.split('/')[-1]\n",
    "        col=define_collections(model,exppath)\n",
    "        if col:\n",
    "            sd=col.to_dict()\n",
    "            sd[\"providers\"][0] = sd[\"providers\"][0][\"name\"]\n",
    "            json.dump(sd,fsspec.open(exppath+\"/stac_\"+model+\"_\"+exp+\".json\",\"w\").open()) \n",
    "            staccols.append(sd)\n",
    "    #\n",
    "staccat=define_catalog(staccols)\n",
    "sd=staccat.to_dict()\n",
    "json.dump(sd,fsspec.open(\"catalog-experiments.json\",\"w\").open())"
   ]
  },
  {
   "cell_type": "code",
   "execution_count": null,
   "id": "b05cc6fb-cd42-49f5-9ca4-c7489d8ce15a",
   "metadata": {},
   "outputs": [],
   "source": []
  },
  {
   "cell_type": "code",
   "execution_count": null,
   "id": "e36616b1-3fce-4597-bd18-39eb826979d4",
   "metadata": {},
   "outputs": [],
   "source": []
  },
  {
   "cell_type": "code",
   "execution_count": null,
   "id": "9ea9b93a-15b2-444a-b191-c757021e0536",
   "metadata": {},
   "outputs": [],
   "source": []
  },
  {
   "cell_type": "code",
   "execution_count": null,
   "id": "b4c15b5c-eb30-499f-aef3-c59a9ae9c4e5",
   "metadata": {},
   "outputs": [],
   "source": []
  },
  {
   "cell_type": "code",
   "execution_count": null,
   "id": "2b57a274-6ea1-4de6-bb19-110a02178ee6",
   "metadata": {},
   "outputs": [],
   "source": []
  },
  {
   "cell_type": "code",
   "execution_count": null,
   "id": "3f6551fc-cb42-47c2-8571-b5f7bd13eeda",
   "metadata": {},
   "outputs": [],
   "source": []
  },
  {
   "cell_type": "code",
   "execution_count": null,
   "id": "0a66edbc-9956-4b20-8120-0d514f6b29c2",
   "metadata": {},
   "outputs": [],
   "source": []
  },
  {
   "cell_type": "code",
   "execution_count": null,
   "id": "546562e7-b28f-4ab4-ad39-939d90a8765f",
   "metadata": {},
   "outputs": [],
   "source": []
  },
  {
   "cell_type": "code",
   "execution_count": null,
   "id": "04f07fa1-daff-4184-bd2c-4f9e29ca9541",
   "metadata": {},
   "outputs": [],
   "source": []
  },
  {
   "cell_type": "code",
   "execution_count": null,
   "id": "3b61a183-b3f2-4872-bc56-59e9a0353156",
   "metadata": {},
   "outputs": [],
   "source": []
  },
  {
   "cell_type": "code",
   "execution_count": null,
   "id": "408fd8fb-048f-4004-a7d6-8b4ac406c53a",
   "metadata": {},
   "outputs": [],
   "source": []
  },
  {
   "cell_type": "code",
   "execution_count": null,
   "id": "f81b59f5-45a6-46d8-945a-4ae4daf076a3",
   "metadata": {},
   "outputs": [],
   "source": []
  },
  {
   "cell_type": "code",
   "execution_count": null,
   "id": "2838f85e-e640-43dd-a353-f6b2007966ff",
   "metadata": {},
   "outputs": [],
   "source": []
  },
  {
   "cell_type": "code",
   "execution_count": null,
   "id": "6373509e-d676-4c49-8798-dd73cc5d4286",
   "metadata": {},
   "outputs": [],
   "source": []
  }
 ],
 "metadata": {
  "kernelspec": {
   "display_name": "stackernel",
   "language": "python",
   "name": "stackernel"
  },
  "language_info": {
   "codemirror_mode": {
    "name": "ipython",
    "version": 3
   },
   "file_extension": ".py",
   "mimetype": "text/x-python",
   "name": "python",
   "nbconvert_exporter": "python",
   "pygments_lexer": "ipython3",
   "version": "3.12.2"
  }
 },
 "nbformat": 4,
 "nbformat_minor": 5
}
