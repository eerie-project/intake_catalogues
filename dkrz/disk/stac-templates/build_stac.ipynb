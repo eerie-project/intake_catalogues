{
 "cells": [
  {
   "cell_type": "code",
   "execution_count": 1,
   "id": "1eed3ce2-e202-4607-9069-81a2f3d8cdfa",
   "metadata": {
    "tags": []
   },
   "outputs": [],
   "source": [
    "import pystac\n",
    "import os\n",
    "import glob\n",
    "import fsspec\n",
    "import json"
   ]
  },
  {
   "cell_type": "code",
   "execution_count": 9,
   "id": "10e02e4a-d78c-47e1-ae60-7152a1c548b0",
   "metadata": {
    "tags": []
   },
   "outputs": [],
   "source": [
    "dslist=json.load(fsspec.open(\"https://eerie.cloud.dkrz.de/datasets\").open())"
   ]
  },
  {
   "cell_type": "code",
   "execution_count": 2,
   "id": "d015020a-847d-4944-af76-ff39377efdf5",
   "metadata": {
    "tags": []
   },
   "outputs": [],
   "source": [
    "intakeurl_root=\"https://raw.githubusercontent.com/eerie-project/intake_catalogues/refs/heads/main/dkrz/disk/stac-templates/\""
   ]
  },
  {
   "cell_type": "code",
   "execution_count": 3,
   "id": "7e43915e-1abf-461b-a46b-53e86cdb47b8",
   "metadata": {
    "tags": []
   },
   "outputs": [],
   "source": [
    "cvurl=\"https://raw.githubusercontent.com/eerie-project/dreq_tools/refs/heads/update_tables/Tables/EERIE_CV.json\"\n",
    "cv=json.load(fsspec.open(cvurl).open())[\"CV\"]"
   ]
  },
  {
   "cell_type": "code",
   "execution_count": 4,
   "id": "10301706-5247-40e1-ba28-9cd5398b8402",
   "metadata": {
    "tags": []
   },
   "outputs": [],
   "source": [
    "cvmodels=list(cv[\"source_id\"].keys())"
   ]
  },
  {
   "cell_type": "code",
   "execution_count": 5,
   "id": "43f5e5f8-b7f1-4080-851d-e73888081df9",
   "metadata": {
    "tags": []
   },
   "outputs": [],
   "source": [
    "cwd=os.getcwd()\n",
    "models=[\n",
    "    a for a in glob.glob(cwd+\"/*\")\n",
    "    if os.path.isdir(a)\n",
    "]"
   ]
  },
  {
   "cell_type": "code",
   "execution_count": 16,
   "id": "cf4e8b00-5f49-497f-afa2-cb654b616334",
   "metadata": {
    "tags": []
   },
   "outputs": [],
   "source": [
    "def define_catalog(modelpath):\n",
    "    model=modelpath.split('/')[-1]\n",
    "    modelupper=model.upper()\n",
    "    if not modelupper in cvmodels:\n",
    "        return None\n",
    "    description=cv[\"source_id\"][modelupper][\"source\"]\n",
    "    description+=(\n",
    "        \"\\n\\n[Imprint](https://www.dkrz.de/en/about-en/contact/impressum) \"+\n",
    "        \"and \\n[Privacy Policy](https://www.dkrz.de/en/about-en/contact/en-datenschutzhinweise).\\n\"\n",
    "    )\n",
    "    cat = pystac.Catalog(\n",
    "        id=\"EERIE-\"+modelupper,\n",
    "        title=\"EERIE \"+modelupper+\" data in Zarr format\",\n",
    "        description=description,\n",
    "        href=intakeurl_root+model+\".json\"\n",
    "    )\n",
    "    cat.add_link(\n",
    "        pystac.Link(\n",
    "            \"parent\",\n",
    "            \"https://swift.dkrz.de/v1/dkrz_7fa6baba-db43-4d12-a295-8e3ebb1a01ed/catalogs/stac-catalog-eeriecloud.json\",\n",
    "            media_type=pystac.MediaType.JSON\n",
    "        )   \n",
    "    )\n",
    "    for entry in dslist:\n",
    "        if model+'.' in entry:\n",
    "            cat.add_link(\n",
    "                pystac.Link(\n",
    "                    pystac.RelType.ITEM,\n",
    "                    \"https://eerie.cloud.dkrz.de/datasets/\"+entry+\"/stac\",\n",
    "                    media_type=pystac.MediaType.JSON\n",
    "                )   \n",
    "            )\n",
    "    return cat"
   ]
  },
  {
   "cell_type": "code",
   "execution_count": 17,
   "id": "200fb3ca-0718-4daa-8c20-7bd3374bf767",
   "metadata": {
    "tags": []
   },
   "outputs": [
    {
     "name": "stdout",
     "output_type": "stream",
     "text": [
      "/work/bm1344/DKRZ/intake_catalogues/dkrz/disk/stac-templates/ifs-fesom2-sr/stac-ifs-fesom2-sr.json\n",
      "/work/bm1344/DKRZ/intake_catalogues/dkrz/disk/stac-templates/icon-esm-er/stac-icon-esm-er.json\n"
     ]
    }
   ],
   "source": [
    "for model in models:\n",
    "    staccat=define_catalog(model)\n",
    "    if staccat:\n",
    "        print(model+\"/stac-\"+model.split('/')[-1]+\".json\")\n",
    "        sd=staccat.to_dict()\n",
    "        json.dump(sd,fsspec.open(model+\"/stac-\"+model.split('/')[-1]+\".json\",\"w\").open())"
   ]
  },
  {
   "cell_type": "code",
   "execution_count": null,
   "id": "cf6f0041-1dca-4578-93e6-9e61457a93c7",
   "metadata": {},
   "outputs": [],
   "source": []
  }
 ],
 "metadata": {
  "kernelspec": {
   "display_name": "stackernel",
   "language": "python",
   "name": "stackernel"
  },
  "language_info": {
   "codemirror_mode": {
    "name": "ipython",
    "version": 3
   },
   "file_extension": ".py",
   "mimetype": "text/x-python",
   "name": "python",
   "nbconvert_exporter": "python",
   "pygments_lexer": "ipython3",
   "version": "3.12.2"
  }
 },
 "nbformat": 4,
 "nbformat_minor": 5
}
